{
  "cells": [
    {
      "cell_type": "markdown",
      "metadata": {
        "id": "view-in-github",
        "colab_type": "text"
      },
      "source": [
        "<a href=\"https://colab.research.google.com/github/anushavasup/Text-Generation-using-LSTM/blob/main/Text_Generation_using_LSTM.ipynb\" target=\"_parent\"><img src=\"https://colab.research.google.com/assets/colab-badge.svg\" alt=\"Open In Colab\"/></a>"
      ]
    },
    {
      "cell_type": "markdown",
      "metadata": {
        "id": "Ah0HRr9xlM6t"
      },
      "source": [
        "#### Text Generation using LSTM"
      ]
    },
    {
      "cell_type": "markdown",
      "metadata": {
        "id": "6vRAk67AlM61"
      },
      "source": [
        "#### Download important libraries"
      ]
    },
    {
      "cell_type": "code",
      "execution_count": 180,
      "metadata": {
        "id": "3CBQVyVllM63"
      },
      "outputs": [],
      "source": [
        "from keras.models import Sequential\n",
        "from keras.layers import Dense, LSTM, Embedding\n",
        "from keras.preprocessing.text import Tokenizer # called 'Tokenization' in some previous versions of keras\n",
        "from keras.utils import to_categorical\n",
        "import numpy as np"
      ]
    },
    {
      "cell_type": "code",
      "execution_count": 181,
      "metadata": {
        "id": "gwGppqDClM66"
      },
      "outputs": [],
      "source": [
        "data = \"The Indian Space Research Organization (IRSO) mission not only made history because it saw the nation become the fourth to successfully land on the moon — after the Soviet Union, the U.S. and China — but also because it named India the first to land at the southern lunar pole.\""
      ]
    },
    {
      "cell_type": "code",
      "execution_count": 182,
      "metadata": {
        "id": "-LGBVkVTlM67"
      },
      "outputs": [],
      "source": [
        "# Instantiate a tokenizer from keras and fit it on the train data\n",
        "tokenizer = Tokenizer()\n",
        "tokenizer.fit_on_texts([data])"
      ]
    },
    {
      "cell_type": "code",
      "execution_count": 183,
      "metadata": {
        "colab": {
          "base_uri": "https://localhost:8080/"
        },
        "id": "vDaVdjm2lM68",
        "outputId": "32587162-d9b2-4061-f926-e5b850c31110"
      },
      "outputs": [
        {
          "output_type": "execute_result",
          "data": {
            "text/plain": [
              "{'the': 1,\n",
              " 'because': 2,\n",
              " 'it': 3,\n",
              " 'to': 4,\n",
              " 'land': 5,\n",
              " '—': 6,\n",
              " 'indian': 7,\n",
              " 'space': 8,\n",
              " 'research': 9,\n",
              " 'organization': 10,\n",
              " 'irso': 11,\n",
              " 'mission': 12,\n",
              " 'not': 13,\n",
              " 'only': 14,\n",
              " 'made': 15,\n",
              " 'history': 16,\n",
              " 'saw': 17,\n",
              " 'nation': 18,\n",
              " 'become': 19,\n",
              " 'fourth': 20,\n",
              " 'successfully': 21,\n",
              " 'on': 22,\n",
              " 'moon': 23,\n",
              " 'after': 24,\n",
              " 'soviet': 25,\n",
              " 'union': 26,\n",
              " 'u': 27,\n",
              " 's': 28,\n",
              " 'and': 29,\n",
              " 'china': 30,\n",
              " 'but': 31,\n",
              " 'also': 32,\n",
              " 'named': 33,\n",
              " 'india': 34,\n",
              " 'first': 35,\n",
              " 'at': 36,\n",
              " 'southern': 37,\n",
              " 'lunar': 38,\n",
              " 'pole': 39}"
            ]
          },
          "metadata": {},
          "execution_count": 183
        }
      ],
      "source": [
        "# Let's check the word index of the vocabulary\n",
        "tokenizer.word_index"
      ]
    },
    {
      "cell_type": "markdown",
      "metadata": {
        "id": "LJ8p1vyWlM6-"
      },
      "source": [
        "#### Prepare sequences from the tokenizer"
      ]
    },
    {
      "cell_type": "code",
      "execution_count": 184,
      "metadata": {
        "id": "4CWAioW5lM6_"
      },
      "outputs": [],
      "source": [
        "# Prepare sequences from the tokenizer\n",
        "sequence = tokenizer.texts_to_sequences([data]) [0]"
      ]
    },
    {
      "cell_type": "code",
      "execution_count": 185,
      "metadata": {
        "colab": {
          "base_uri": "https://localhost:8080/"
        },
        "id": "LY6Nxg-KlM7B",
        "outputId": "d1c1c679-3b36-4915-94aa-5d4526d82e5d"
      },
      "outputs": [
        {
          "output_type": "execute_result",
          "data": {
            "text/plain": [
              "[1,\n",
              " 7,\n",
              " 8,\n",
              " 9,\n",
              " 10,\n",
              " 11,\n",
              " 12,\n",
              " 13,\n",
              " 14,\n",
              " 15,\n",
              " 16,\n",
              " 2,\n",
              " 3,\n",
              " 17,\n",
              " 1,\n",
              " 18,\n",
              " 19,\n",
              " 1,\n",
              " 20,\n",
              " 4,\n",
              " 21,\n",
              " 5,\n",
              " 22,\n",
              " 1,\n",
              " 23,\n",
              " 6,\n",
              " 24,\n",
              " 1,\n",
              " 25,\n",
              " 26,\n",
              " 1,\n",
              " 27,\n",
              " 28,\n",
              " 29,\n",
              " 30,\n",
              " 6,\n",
              " 31,\n",
              " 32,\n",
              " 2,\n",
              " 3,\n",
              " 33,\n",
              " 34,\n",
              " 1,\n",
              " 35,\n",
              " 4,\n",
              " 5,\n",
              " 36,\n",
              " 1,\n",
              " 37,\n",
              " 38,\n",
              " 39]"
            ]
          },
          "metadata": {},
          "execution_count": 185
        }
      ],
      "source": [
        "# Let's check the sequence\n",
        "sequence"
      ]
    },
    {
      "cell_type": "code",
      "execution_count": 186,
      "metadata": {
        "colab": {
          "base_uri": "https://localhost:8080/"
        },
        "id": "Be8BguXzlM7D",
        "outputId": "7faddd5f-96df-4f85-95fb-ea2da2873a8c"
      },
      "outputs": [
        {
          "output_type": "execute_result",
          "data": {
            "text/plain": [
              "39"
            ]
          },
          "metadata": {},
          "execution_count": 186
        }
      ],
      "source": [
        "# Let's get unique tokens from the vocabulary\n",
        "tokens = len(tokenizer.word_index)\n",
        "tokens"
      ]
    },
    {
      "cell_type": "code",
      "execution_count": 187,
      "metadata": {
        "colab": {
          "base_uri": "https://localhost:8080/"
        },
        "id": "sghpP6aQlM7E",
        "outputId": "448f0810-a274-4ce2-b387-75c8d8f21908"
      },
      "outputs": [
        {
          "output_type": "stream",
          "name": "stdout",
          "text": [
            "[1, 7, 8, 9, 10]\n",
            "[7, 8, 9, 10, 11]\n",
            "[8, 9, 10, 11, 12]\n",
            "[9, 10, 11, 12, 13]\n",
            "[10, 11, 12, 13, 14]\n",
            "[11, 12, 13, 14, 15]\n",
            "[12, 13, 14, 15, 16]\n",
            "[13, 14, 15, 16, 2]\n",
            "[14, 15, 16, 2, 3]\n",
            "[15, 16, 2, 3, 17]\n",
            "[16, 2, 3, 17, 1]\n",
            "[2, 3, 17, 1, 18]\n",
            "[3, 17, 1, 18, 19]\n",
            "[17, 1, 18, 19, 1]\n",
            "[1, 18, 19, 1, 20]\n",
            "[18, 19, 1, 20, 4]\n",
            "[19, 1, 20, 4, 21]\n",
            "[1, 20, 4, 21, 5]\n",
            "[20, 4, 21, 5, 22]\n",
            "[4, 21, 5, 22, 1]\n",
            "[21, 5, 22, 1, 23]\n",
            "[5, 22, 1, 23, 6]\n",
            "[22, 1, 23, 6, 24]\n",
            "[1, 23, 6, 24, 1]\n",
            "[23, 6, 24, 1, 25]\n",
            "[6, 24, 1, 25, 26]\n",
            "[24, 1, 25, 26, 1]\n",
            "[1, 25, 26, 1, 27]\n",
            "[25, 26, 1, 27, 28]\n",
            "[26, 1, 27, 28, 29]\n",
            "[1, 27, 28, 29, 30]\n",
            "[27, 28, 29, 30, 6]\n",
            "[28, 29, 30, 6, 31]\n",
            "[29, 30, 6, 31, 32]\n",
            "[30, 6, 31, 32, 2]\n",
            "[6, 31, 32, 2, 3]\n",
            "[31, 32, 2, 3, 33]\n",
            "[32, 2, 3, 33, 34]\n",
            "[2, 3, 33, 34, 1]\n",
            "[3, 33, 34, 1, 35]\n",
            "[33, 34, 1, 35, 4]\n",
            "[34, 1, 35, 4, 5]\n",
            "[1, 35, 4, 5, 36]\n",
            "[35, 4, 5, 36, 1]\n",
            "[4, 5, 36, 1, 37]\n",
            "[5, 36, 1, 37, 38]\n",
            "[36, 1, 37, 38, 39]\n",
            "[1, 37, 38, 39, 0]\n",
            "[37, 38, 39, 0, 0]\n"
          ]
        }
      ],
      "source": [
        "# Let's prepare a training set from the above sample,\n",
        "# where the input is a sequence of words and output is word following the\n",
        "# sequence\n",
        "train_seq = []\n",
        "for i in range(2, len(sequence)):\n",
        "    seq = sequence[i-2: i+3]\n",
        "    while len(seq) != 5:\n",
        "      seq.append(0)\n",
        "    print(seq)\n",
        "    train_seq.append(seq)"
      ]
    },
    {
      "cell_type": "code",
      "execution_count": 188,
      "metadata": {
        "id": "75lon1PSlM7F"
      },
      "outputs": [],
      "source": [
        "# convert to a numpy array\n",
        "train_seq = np.array(train_seq)"
      ]
    },
    {
      "cell_type": "code",
      "execution_count": 189,
      "metadata": {
        "id": "HysacPyElM7H"
      },
      "outputs": [],
      "source": [
        "# select first four words in the sequence for training\n",
        "#select the fifth word in the sequence for testing\n",
        "train_X, train_y = train_seq[:,:4], train_seq[:, 4]"
      ]
    },
    {
      "cell_type": "code",
      "execution_count": 190,
      "metadata": {
        "colab": {
          "base_uri": "https://localhost:8080/"
        },
        "id": "O1ioOqBklM7H",
        "outputId": "e8f989a5-42d4-4411-a8f8-dc4a9af022a8"
      },
      "outputs": [
        {
          "output_type": "execute_result",
          "data": {
            "text/plain": [
              "array([[ 1,  7,  8,  9],\n",
              "       [ 7,  8,  9, 10],\n",
              "       [ 8,  9, 10, 11],\n",
              "       [ 9, 10, 11, 12],\n",
              "       [10, 11, 12, 13],\n",
              "       [11, 12, 13, 14],\n",
              "       [12, 13, 14, 15],\n",
              "       [13, 14, 15, 16],\n",
              "       [14, 15, 16,  2],\n",
              "       [15, 16,  2,  3],\n",
              "       [16,  2,  3, 17],\n",
              "       [ 2,  3, 17,  1],\n",
              "       [ 3, 17,  1, 18],\n",
              "       [17,  1, 18, 19],\n",
              "       [ 1, 18, 19,  1],\n",
              "       [18, 19,  1, 20],\n",
              "       [19,  1, 20,  4],\n",
              "       [ 1, 20,  4, 21],\n",
              "       [20,  4, 21,  5],\n",
              "       [ 4, 21,  5, 22],\n",
              "       [21,  5, 22,  1],\n",
              "       [ 5, 22,  1, 23],\n",
              "       [22,  1, 23,  6],\n",
              "       [ 1, 23,  6, 24],\n",
              "       [23,  6, 24,  1],\n",
              "       [ 6, 24,  1, 25],\n",
              "       [24,  1, 25, 26],\n",
              "       [ 1, 25, 26,  1],\n",
              "       [25, 26,  1, 27],\n",
              "       [26,  1, 27, 28],\n",
              "       [ 1, 27, 28, 29],\n",
              "       [27, 28, 29, 30],\n",
              "       [28, 29, 30,  6],\n",
              "       [29, 30,  6, 31],\n",
              "       [30,  6, 31, 32],\n",
              "       [ 6, 31, 32,  2],\n",
              "       [31, 32,  2,  3],\n",
              "       [32,  2,  3, 33],\n",
              "       [ 2,  3, 33, 34],\n",
              "       [ 3, 33, 34,  1],\n",
              "       [33, 34,  1, 35],\n",
              "       [34,  1, 35,  4],\n",
              "       [ 1, 35,  4,  5],\n",
              "       [35,  4,  5, 36],\n",
              "       [ 4,  5, 36,  1],\n",
              "       [ 5, 36,  1, 37],\n",
              "       [36,  1, 37, 38],\n",
              "       [ 1, 37, 38, 39],\n",
              "       [37, 38, 39,  0]])"
            ]
          },
          "metadata": {},
          "execution_count": 190
        }
      ],
      "source": [
        "train_X"
      ]
    },
    {
      "cell_type": "code",
      "source": [
        "train_X.shape"
      ],
      "metadata": {
        "colab": {
          "base_uri": "https://localhost:8080/"
        },
        "id": "2AbyiORJqzjD",
        "outputId": "79965bf9-fe5f-4eea-e0bf-0b361278592d"
      },
      "execution_count": 191,
      "outputs": [
        {
          "output_type": "execute_result",
          "data": {
            "text/plain": [
              "(49, 4)"
            ]
          },
          "metadata": {},
          "execution_count": 191
        }
      ]
    },
    {
      "cell_type": "code",
      "execution_count": 192,
      "metadata": {
        "colab": {
          "base_uri": "https://localhost:8080/"
        },
        "id": "VOJpGDdylM7I",
        "outputId": "fc103c7b-607f-4033-98da-60b638225cf3"
      },
      "outputs": [
        {
          "output_type": "execute_result",
          "data": {
            "text/plain": [
              "array([10, 11, 12, 13, 14, 15, 16,  2,  3, 17,  1, 18, 19,  1, 20,  4, 21,\n",
              "        5, 22,  1, 23,  6, 24,  1, 25, 26,  1, 27, 28, 29, 30,  6, 31, 32,\n",
              "        2,  3, 33, 34,  1, 35,  4,  5, 36,  1, 37, 38, 39,  0,  0])"
            ]
          },
          "metadata": {},
          "execution_count": 192
        }
      ],
      "source": [
        "train_y"
      ]
    },
    {
      "cell_type": "code",
      "source": [
        "train_y.shape"
      ],
      "metadata": {
        "colab": {
          "base_uri": "https://localhost:8080/"
        },
        "id": "mKflbUYgplmH",
        "outputId": "0e9b9883-45ee-4a7d-f5f9-01b3f0aa97fd"
      },
      "execution_count": 193,
      "outputs": [
        {
          "output_type": "execute_result",
          "data": {
            "text/plain": [
              "(49,)"
            ]
          },
          "metadata": {},
          "execution_count": 193
        }
      ]
    },
    {
      "cell_type": "code",
      "execution_count": 196,
      "metadata": {
        "id": "CQ0uECwalM7J"
      },
      "outputs": [],
      "source": [
        "#let's convert target label into categorical\n",
        "train_yC = to_categorical(train_y, num_classes=tokens+1) # since tokenizer starts indexing from 1 where as other funcs from 0"
      ]
    },
    {
      "cell_type": "code",
      "source": [
        "train_yC.shape"
      ],
      "metadata": {
        "colab": {
          "base_uri": "https://localhost:8080/"
        },
        "id": "RhipTphosdDy",
        "outputId": "e63d39a5-6c20-4384-b605-a789a2a1fe62"
      },
      "execution_count": 197,
      "outputs": [
        {
          "output_type": "execute_result",
          "data": {
            "text/plain": [
              "(49, 40)"
            ]
          },
          "metadata": {},
          "execution_count": 197
        }
      ]
    },
    {
      "cell_type": "code",
      "source": [
        "train_yC[0]"
      ],
      "metadata": {
        "colab": {
          "base_uri": "https://localhost:8080/"
        },
        "id": "6aBOprgP3hQb",
        "outputId": "a29ab46d-b2bc-43ba-b72b-d3248016e69a"
      },
      "execution_count": 198,
      "outputs": [
        {
          "output_type": "execute_result",
          "data": {
            "text/plain": [
              "array([0., 0., 0., 0., 0., 0., 0., 0., 0., 0., 1., 0., 0., 0., 0., 0., 0.,\n",
              "       0., 0., 0., 0., 0., 0., 0., 0., 0., 0., 0., 0., 0., 0., 0., 0., 0.,\n",
              "       0., 0., 0., 0., 0., 0.], dtype=float32)"
            ]
          },
          "metadata": {},
          "execution_count": 198
        }
      ]
    },
    {
      "cell_type": "markdown",
      "metadata": {
        "id": "rGHl3m5FlM7K"
      },
      "source": [
        "#### Embedding Layer\n",
        "Embedding Layer contains the following parameters:\n",
        "    \n",
        "    input_dim: the size of the vocabulary\n",
        "    output_dim: the size of the dense vector\n",
        "    input_length: the length of the sequence"
      ]
    },
    {
      "cell_type": "code",
      "execution_count": 199,
      "metadata": {
        "id": "lesGvAArlM7L"
      },
      "outputs": [],
      "source": [
        "# let's define our model\n",
        "model = Sequential()\n",
        "model.add(Embedding(tokens+1, 10, input_length=4))\n",
        "model.add(LSTM(32))\n",
        "model.add(Dense(\n",
        "                tokens+1, activation=\"softmax\"))"
      ]
    },
    {
      "cell_type": "code",
      "execution_count": 200,
      "metadata": {
        "colab": {
          "base_uri": "https://localhost:8080/"
        },
        "id": "20wiudtAlM7M",
        "outputId": "666ef3bc-608d-4c5b-ab4e-1f524fc2ce68"
      },
      "outputs": [
        {
          "output_type": "stream",
          "name": "stdout",
          "text": [
            "Model: \"sequential_12\"\n",
            "_________________________________________________________________\n",
            " Layer (type)                Output Shape              Param #   \n",
            "=================================================================\n",
            " embedding_12 (Embedding)    (None, 4, 10)             400       \n",
            "                                                                 \n",
            " lstm_12 (LSTM)              (None, 32)                5504      \n",
            "                                                                 \n",
            " dense_12 (Dense)            (None, 40)                1320      \n",
            "                                                                 \n",
            "=================================================================\n",
            "Total params: 7,224\n",
            "Trainable params: 7,224\n",
            "Non-trainable params: 0\n",
            "_________________________________________________________________\n"
          ]
        }
      ],
      "source": [
        "model.summary()"
      ]
    },
    {
      "cell_type": "code",
      "execution_count": 201,
      "metadata": {
        "id": "lE0j1YwtlM7N"
      },
      "outputs": [],
      "source": [
        "model.compile(loss='categorical_crossentropy', optimizer=\"adam\", metrics=['accuracy'])"
      ]
    },
    {
      "cell_type": "code",
      "execution_count": 202,
      "metadata": {
        "scrolled": true,
        "colab": {
          "base_uri": "https://localhost:8080/"
        },
        "id": "NbvnDbfQlM7N",
        "outputId": "3bcdcc91-ad14-4e18-f819-a92f231da0ac"
      },
      "outputs": [
        {
          "output_type": "stream",
          "name": "stdout",
          "text": [
            "Epoch 1/500\n",
            "2/2 [==============================] - 3s 13ms/step - loss: 3.6895 - accuracy: 0.0000e+00\n",
            "Epoch 2/500\n",
            "2/2 [==============================] - 0s 11ms/step - loss: 3.6875 - accuracy: 0.0816\n",
            "Epoch 3/500\n",
            "2/2 [==============================] - 0s 12ms/step - loss: 3.6858 - accuracy: 0.1429\n",
            "Epoch 4/500\n",
            "2/2 [==============================] - 0s 10ms/step - loss: 3.6840 - accuracy: 0.1633\n",
            "Epoch 5/500\n",
            "2/2 [==============================] - 0s 11ms/step - loss: 3.6824 - accuracy: 0.1633\n",
            "Epoch 6/500\n",
            "2/2 [==============================] - 0s 12ms/step - loss: 3.6808 - accuracy: 0.1633\n",
            "Epoch 7/500\n",
            "2/2 [==============================] - 0s 12ms/step - loss: 3.6791 - accuracy: 0.1633\n",
            "Epoch 8/500\n",
            "2/2 [==============================] - 0s 16ms/step - loss: 3.6774 - accuracy: 0.1633\n",
            "Epoch 9/500\n",
            "2/2 [==============================] - 0s 12ms/step - loss: 3.6755 - accuracy: 0.1429\n",
            "Epoch 10/500\n",
            "2/2 [==============================] - 0s 12ms/step - loss: 3.6735 - accuracy: 0.1429\n",
            "Epoch 11/500\n",
            "2/2 [==============================] - 0s 13ms/step - loss: 3.6717 - accuracy: 0.1429\n",
            "Epoch 12/500\n",
            "2/2 [==============================] - 0s 13ms/step - loss: 3.6695 - accuracy: 0.1429\n",
            "Epoch 13/500\n",
            "2/2 [==============================] - 0s 11ms/step - loss: 3.6673 - accuracy: 0.1429\n",
            "Epoch 14/500\n",
            "2/2 [==============================] - 0s 13ms/step - loss: 3.6652 - accuracy: 0.1429\n",
            "Epoch 15/500\n",
            "2/2 [==============================] - 0s 12ms/step - loss: 3.6624 - accuracy: 0.1429\n",
            "Epoch 16/500\n",
            "2/2 [==============================] - 0s 11ms/step - loss: 3.6599 - accuracy: 0.1429\n",
            "Epoch 17/500\n",
            "2/2 [==============================] - 0s 14ms/step - loss: 3.6572 - accuracy: 0.1429\n",
            "Epoch 18/500\n",
            "2/2 [==============================] - 0s 12ms/step - loss: 3.6541 - accuracy: 0.1429\n",
            "Epoch 19/500\n",
            "2/2 [==============================] - 0s 11ms/step - loss: 3.6509 - accuracy: 0.1429\n",
            "Epoch 20/500\n",
            "2/2 [==============================] - 0s 11ms/step - loss: 3.6474 - accuracy: 0.1429\n",
            "Epoch 21/500\n",
            "2/2 [==============================] - 0s 12ms/step - loss: 3.6437 - accuracy: 0.1429\n",
            "Epoch 22/500\n",
            "2/2 [==============================] - 0s 14ms/step - loss: 3.6396 - accuracy: 0.1429\n",
            "Epoch 23/500\n",
            "2/2 [==============================] - 0s 12ms/step - loss: 3.6349 - accuracy: 0.1429\n",
            "Epoch 24/500\n",
            "2/2 [==============================] - 0s 12ms/step - loss: 3.6301 - accuracy: 0.1429\n",
            "Epoch 25/500\n",
            "2/2 [==============================] - 0s 12ms/step - loss: 3.6250 - accuracy: 0.1429\n",
            "Epoch 26/500\n",
            "2/2 [==============================] - 0s 13ms/step - loss: 3.6190 - accuracy: 0.1429\n",
            "Epoch 27/500\n",
            "2/2 [==============================] - 0s 14ms/step - loss: 3.6125 - accuracy: 0.1429\n",
            "Epoch 28/500\n",
            "2/2 [==============================] - 0s 15ms/step - loss: 3.6056 - accuracy: 0.1429\n",
            "Epoch 29/500\n",
            "2/2 [==============================] - 0s 12ms/step - loss: 3.5969 - accuracy: 0.1429\n",
            "Epoch 30/500\n",
            "2/2 [==============================] - 0s 11ms/step - loss: 3.5893 - accuracy: 0.1429\n",
            "Epoch 31/500\n",
            "2/2 [==============================] - 0s 12ms/step - loss: 3.5788 - accuracy: 0.1429\n",
            "Epoch 32/500\n",
            "2/2 [==============================] - 0s 12ms/step - loss: 3.5692 - accuracy: 0.1429\n",
            "Epoch 33/500\n",
            "2/2 [==============================] - 0s 13ms/step - loss: 3.5578 - accuracy: 0.1429\n",
            "Epoch 34/500\n",
            "2/2 [==============================] - 0s 11ms/step - loss: 3.5442 - accuracy: 0.1429\n",
            "Epoch 35/500\n",
            "2/2 [==============================] - 0s 14ms/step - loss: 3.5294 - accuracy: 0.1429\n",
            "Epoch 36/500\n",
            "2/2 [==============================] - 0s 13ms/step - loss: 3.5139 - accuracy: 0.1429\n",
            "Epoch 37/500\n",
            "2/2 [==============================] - 0s 12ms/step - loss: 3.4983 - accuracy: 0.1429\n",
            "Epoch 38/500\n",
            "2/2 [==============================] - 0s 13ms/step - loss: 3.4769 - accuracy: 0.1429\n",
            "Epoch 39/500\n",
            "2/2 [==============================] - 0s 12ms/step - loss: 3.4576 - accuracy: 0.1429\n",
            "Epoch 40/500\n",
            "2/2 [==============================] - 0s 12ms/step - loss: 3.4352 - accuracy: 0.1429\n",
            "Epoch 41/500\n",
            "2/2 [==============================] - 0s 13ms/step - loss: 3.4141 - accuracy: 0.1429\n",
            "Epoch 42/500\n",
            "2/2 [==============================] - 0s 14ms/step - loss: 3.3908 - accuracy: 0.1429\n",
            "Epoch 43/500\n",
            "2/2 [==============================] - 0s 15ms/step - loss: 3.3694 - accuracy: 0.1429\n",
            "Epoch 44/500\n",
            "2/2 [==============================] - 0s 13ms/step - loss: 3.3473 - accuracy: 0.1429\n",
            "Epoch 45/500\n",
            "2/2 [==============================] - 0s 11ms/step - loss: 3.3302 - accuracy: 0.1429\n",
            "Epoch 46/500\n",
            "2/2 [==============================] - 0s 16ms/step - loss: 3.3192 - accuracy: 0.1429\n",
            "Epoch 47/500\n",
            "2/2 [==============================] - 0s 17ms/step - loss: 3.3070 - accuracy: 0.1429\n",
            "Epoch 48/500\n",
            "2/2 [==============================] - 0s 19ms/step - loss: 3.2963 - accuracy: 0.1429\n",
            "Epoch 49/500\n",
            "2/2 [==============================] - 0s 11ms/step - loss: 3.2843 - accuracy: 0.1429\n",
            "Epoch 50/500\n",
            "2/2 [==============================] - 0s 12ms/step - loss: 3.2691 - accuracy: 0.1429\n",
            "Epoch 51/500\n",
            "2/2 [==============================] - 0s 14ms/step - loss: 3.2521 - accuracy: 0.1429\n",
            "Epoch 52/500\n",
            "2/2 [==============================] - 0s 13ms/step - loss: 3.2340 - accuracy: 0.1429\n",
            "Epoch 53/500\n",
            "2/2 [==============================] - 0s 15ms/step - loss: 3.2157 - accuracy: 0.1429\n",
            "Epoch 54/500\n",
            "2/2 [==============================] - 0s 12ms/step - loss: 3.1958 - accuracy: 0.1429\n",
            "Epoch 55/500\n",
            "2/2 [==============================] - 0s 13ms/step - loss: 3.1800 - accuracy: 0.1633\n",
            "Epoch 56/500\n",
            "2/2 [==============================] - 0s 13ms/step - loss: 3.1611 - accuracy: 0.1633\n",
            "Epoch 57/500\n",
            "2/2 [==============================] - 0s 12ms/step - loss: 3.1433 - accuracy: 0.1633\n",
            "Epoch 58/500\n",
            "2/2 [==============================] - 0s 12ms/step - loss: 3.1248 - accuracy: 0.1633\n",
            "Epoch 59/500\n",
            "2/2 [==============================] - 0s 12ms/step - loss: 3.1048 - accuracy: 0.1633\n",
            "Epoch 60/500\n",
            "2/2 [==============================] - 0s 15ms/step - loss: 3.0845 - accuracy: 0.1633\n",
            "Epoch 61/500\n",
            "2/2 [==============================] - 0s 31ms/step - loss: 3.0641 - accuracy: 0.1633\n",
            "Epoch 62/500\n",
            "2/2 [==============================] - 0s 13ms/step - loss: 3.0406 - accuracy: 0.1633\n",
            "Epoch 63/500\n",
            "2/2 [==============================] - 0s 12ms/step - loss: 3.0186 - accuracy: 0.1633\n",
            "Epoch 64/500\n",
            "2/2 [==============================] - 0s 13ms/step - loss: 2.9946 - accuracy: 0.1837\n",
            "Epoch 65/500\n",
            "2/2 [==============================] - 0s 17ms/step - loss: 2.9718 - accuracy: 0.1837\n",
            "Epoch 66/500\n",
            "2/2 [==============================] - 0s 19ms/step - loss: 2.9472 - accuracy: 0.1837\n",
            "Epoch 67/500\n",
            "2/2 [==============================] - 0s 13ms/step - loss: 2.9231 - accuracy: 0.2041\n",
            "Epoch 68/500\n",
            "2/2 [==============================] - 0s 11ms/step - loss: 2.8996 - accuracy: 0.2041\n",
            "Epoch 69/500\n",
            "2/2 [==============================] - 0s 13ms/step - loss: 2.8752 - accuracy: 0.2041\n",
            "Epoch 70/500\n",
            "2/2 [==============================] - 0s 12ms/step - loss: 2.8518 - accuracy: 0.2041\n",
            "Epoch 71/500\n",
            "2/2 [==============================] - 0s 13ms/step - loss: 2.8265 - accuracy: 0.1837\n",
            "Epoch 72/500\n",
            "2/2 [==============================] - 0s 15ms/step - loss: 2.8035 - accuracy: 0.1837\n",
            "Epoch 73/500\n",
            "2/2 [==============================] - 0s 13ms/step - loss: 2.7799 - accuracy: 0.1837\n",
            "Epoch 74/500\n",
            "2/2 [==============================] - 0s 12ms/step - loss: 2.7564 - accuracy: 0.2245\n",
            "Epoch 75/500\n",
            "2/2 [==============================] - 0s 12ms/step - loss: 2.7336 - accuracy: 0.2449\n",
            "Epoch 76/500\n",
            "2/2 [==============================] - 0s 13ms/step - loss: 2.7105 - accuracy: 0.2449\n",
            "Epoch 77/500\n",
            "2/2 [==============================] - 0s 14ms/step - loss: 2.6877 - accuracy: 0.2449\n",
            "Epoch 78/500\n",
            "2/2 [==============================] - 0s 15ms/step - loss: 2.6649 - accuracy: 0.2245\n",
            "Epoch 79/500\n",
            "2/2 [==============================] - 0s 11ms/step - loss: 2.6428 - accuracy: 0.2245\n",
            "Epoch 80/500\n",
            "2/2 [==============================] - 0s 14ms/step - loss: 2.6204 - accuracy: 0.2041\n",
            "Epoch 81/500\n",
            "2/2 [==============================] - 0s 11ms/step - loss: 2.5991 - accuracy: 0.2041\n",
            "Epoch 82/500\n",
            "2/2 [==============================] - 0s 14ms/step - loss: 2.5785 - accuracy: 0.2449\n",
            "Epoch 83/500\n",
            "2/2 [==============================] - 0s 13ms/step - loss: 2.5549 - accuracy: 0.2449\n",
            "Epoch 84/500\n",
            "2/2 [==============================] - 0s 12ms/step - loss: 2.5331 - accuracy: 0.2449\n",
            "Epoch 85/500\n",
            "2/2 [==============================] - 0s 13ms/step - loss: 2.5122 - accuracy: 0.2449\n",
            "Epoch 86/500\n",
            "2/2 [==============================] - 0s 15ms/step - loss: 2.4904 - accuracy: 0.2449\n",
            "Epoch 87/500\n",
            "2/2 [==============================] - 0s 11ms/step - loss: 2.4682 - accuracy: 0.2449\n",
            "Epoch 88/500\n",
            "2/2 [==============================] - 0s 16ms/step - loss: 2.4470 - accuracy: 0.2449\n",
            "Epoch 89/500\n",
            "2/2 [==============================] - 0s 12ms/step - loss: 2.4241 - accuracy: 0.2449\n",
            "Epoch 90/500\n",
            "2/2 [==============================] - 0s 15ms/step - loss: 2.4025 - accuracy: 0.2449\n",
            "Epoch 91/500\n",
            "2/2 [==============================] - 0s 12ms/step - loss: 2.3805 - accuracy: 0.2653\n",
            "Epoch 92/500\n",
            "2/2 [==============================] - 0s 12ms/step - loss: 2.3578 - accuracy: 0.2653\n",
            "Epoch 93/500\n",
            "2/2 [==============================] - 0s 13ms/step - loss: 2.3367 - accuracy: 0.2653\n",
            "Epoch 94/500\n",
            "2/2 [==============================] - 0s 29ms/step - loss: 2.3140 - accuracy: 0.2857\n",
            "Epoch 95/500\n",
            "2/2 [==============================] - 0s 13ms/step - loss: 2.2917 - accuracy: 0.2857\n",
            "Epoch 96/500\n",
            "2/2 [==============================] - 0s 13ms/step - loss: 2.2691 - accuracy: 0.2857\n",
            "Epoch 97/500\n",
            "2/2 [==============================] - 0s 14ms/step - loss: 2.2478 - accuracy: 0.3061\n",
            "Epoch 98/500\n",
            "2/2 [==============================] - 0s 12ms/step - loss: 2.2255 - accuracy: 0.3265\n",
            "Epoch 99/500\n",
            "2/2 [==============================] - 0s 14ms/step - loss: 2.2036 - accuracy: 0.3469\n",
            "Epoch 100/500\n",
            "2/2 [==============================] - 0s 14ms/step - loss: 2.1810 - accuracy: 0.3469\n",
            "Epoch 101/500\n",
            "2/2 [==============================] - 0s 14ms/step - loss: 2.1585 - accuracy: 0.3469\n",
            "Epoch 102/500\n",
            "2/2 [==============================] - 0s 12ms/step - loss: 2.1363 - accuracy: 0.3469\n",
            "Epoch 103/500\n",
            "2/2 [==============================] - 0s 12ms/step - loss: 2.1157 - accuracy: 0.3469\n",
            "Epoch 104/500\n",
            "2/2 [==============================] - 0s 13ms/step - loss: 2.0930 - accuracy: 0.3469\n",
            "Epoch 105/500\n",
            "2/2 [==============================] - 0s 13ms/step - loss: 2.0707 - accuracy: 0.3469\n",
            "Epoch 106/500\n",
            "2/2 [==============================] - 0s 16ms/step - loss: 2.0495 - accuracy: 0.3469\n",
            "Epoch 107/500\n",
            "2/2 [==============================] - 0s 14ms/step - loss: 2.0281 - accuracy: 0.3469\n",
            "Epoch 108/500\n",
            "2/2 [==============================] - 0s 12ms/step - loss: 2.0064 - accuracy: 0.3469\n",
            "Epoch 109/500\n",
            "2/2 [==============================] - 0s 15ms/step - loss: 1.9844 - accuracy: 0.3673\n",
            "Epoch 110/500\n",
            "2/2 [==============================] - 0s 12ms/step - loss: 1.9644 - accuracy: 0.3878\n",
            "Epoch 111/500\n",
            "2/2 [==============================] - 0s 13ms/step - loss: 1.9429 - accuracy: 0.4082\n",
            "Epoch 112/500\n",
            "2/2 [==============================] - 0s 20ms/step - loss: 1.9213 - accuracy: 0.4286\n",
            "Epoch 113/500\n",
            "2/2 [==============================] - 0s 13ms/step - loss: 1.9011 - accuracy: 0.4490\n",
            "Epoch 114/500\n",
            "2/2 [==============================] - 0s 12ms/step - loss: 1.8802 - accuracy: 0.4694\n",
            "Epoch 115/500\n",
            "2/2 [==============================] - 0s 12ms/step - loss: 1.8602 - accuracy: 0.5306\n",
            "Epoch 116/500\n",
            "2/2 [==============================] - 0s 14ms/step - loss: 1.8403 - accuracy: 0.5306\n",
            "Epoch 117/500\n",
            "2/2 [==============================] - 0s 14ms/step - loss: 1.8204 - accuracy: 0.5306\n",
            "Epoch 118/500\n",
            "2/2 [==============================] - 0s 12ms/step - loss: 1.8001 - accuracy: 0.5510\n",
            "Epoch 119/500\n",
            "2/2 [==============================] - 0s 13ms/step - loss: 1.7803 - accuracy: 0.5510\n",
            "Epoch 120/500\n",
            "2/2 [==============================] - 0s 12ms/step - loss: 1.7610 - accuracy: 0.5510\n",
            "Epoch 121/500\n",
            "2/2 [==============================] - 0s 13ms/step - loss: 1.7425 - accuracy: 0.5510\n",
            "Epoch 122/500\n",
            "2/2 [==============================] - 0s 12ms/step - loss: 1.7227 - accuracy: 0.5510\n",
            "Epoch 123/500\n",
            "2/2 [==============================] - 0s 12ms/step - loss: 1.7032 - accuracy: 0.5510\n",
            "Epoch 124/500\n",
            "2/2 [==============================] - 0s 17ms/step - loss: 1.6850 - accuracy: 0.5510\n",
            "Epoch 125/500\n",
            "2/2 [==============================] - 0s 12ms/step - loss: 1.6666 - accuracy: 0.5510\n",
            "Epoch 126/500\n",
            "2/2 [==============================] - 0s 14ms/step - loss: 1.6485 - accuracy: 0.5510\n",
            "Epoch 127/500\n",
            "2/2 [==============================] - 0s 15ms/step - loss: 1.6303 - accuracy: 0.5510\n",
            "Epoch 128/500\n",
            "2/2 [==============================] - 0s 12ms/step - loss: 1.6119 - accuracy: 0.5510\n",
            "Epoch 129/500\n",
            "2/2 [==============================] - 0s 11ms/step - loss: 1.5928 - accuracy: 0.5714\n",
            "Epoch 130/500\n",
            "2/2 [==============================] - 0s 13ms/step - loss: 1.5750 - accuracy: 0.5714\n",
            "Epoch 131/500\n",
            "2/2 [==============================] - 0s 18ms/step - loss: 1.5577 - accuracy: 0.5714\n",
            "Epoch 132/500\n",
            "2/2 [==============================] - 0s 13ms/step - loss: 1.5390 - accuracy: 0.5714\n",
            "Epoch 133/500\n",
            "2/2 [==============================] - 0s 13ms/step - loss: 1.5220 - accuracy: 0.5714\n",
            "Epoch 134/500\n",
            "2/2 [==============================] - 0s 12ms/step - loss: 1.5035 - accuracy: 0.5918\n",
            "Epoch 135/500\n",
            "2/2 [==============================] - 0s 16ms/step - loss: 1.4878 - accuracy: 0.6122\n",
            "Epoch 136/500\n",
            "2/2 [==============================] - 0s 13ms/step - loss: 1.4699 - accuracy: 0.6122\n",
            "Epoch 137/500\n",
            "2/2 [==============================] - 0s 14ms/step - loss: 1.4534 - accuracy: 0.6122\n",
            "Epoch 138/500\n",
            "2/2 [==============================] - 0s 12ms/step - loss: 1.4361 - accuracy: 0.6327\n",
            "Epoch 139/500\n",
            "2/2 [==============================] - 0s 23ms/step - loss: 1.4191 - accuracy: 0.6327\n",
            "Epoch 140/500\n",
            "2/2 [==============================] - 0s 13ms/step - loss: 1.4023 - accuracy: 0.6531\n",
            "Epoch 141/500\n",
            "2/2 [==============================] - 0s 16ms/step - loss: 1.3854 - accuracy: 0.6531\n",
            "Epoch 142/500\n",
            "2/2 [==============================] - 0s 13ms/step - loss: 1.3695 - accuracy: 0.6531\n",
            "Epoch 143/500\n",
            "2/2 [==============================] - 0s 15ms/step - loss: 1.3530 - accuracy: 0.7143\n",
            "Epoch 144/500\n",
            "2/2 [==============================] - 0s 11ms/step - loss: 1.3372 - accuracy: 0.7347\n",
            "Epoch 145/500\n",
            "2/2 [==============================] - 0s 13ms/step - loss: 1.3204 - accuracy: 0.7347\n",
            "Epoch 146/500\n",
            "2/2 [==============================] - 0s 14ms/step - loss: 1.3039 - accuracy: 0.7347\n",
            "Epoch 147/500\n",
            "2/2 [==============================] - 0s 14ms/step - loss: 1.2893 - accuracy: 0.7347\n",
            "Epoch 148/500\n",
            "2/2 [==============================] - 0s 13ms/step - loss: 1.2730 - accuracy: 0.7347\n",
            "Epoch 149/500\n",
            "2/2 [==============================] - 0s 11ms/step - loss: 1.2580 - accuracy: 0.7551\n",
            "Epoch 150/500\n",
            "2/2 [==============================] - 0s 11ms/step - loss: 1.2417 - accuracy: 0.7551\n",
            "Epoch 151/500\n",
            "2/2 [==============================] - 0s 10ms/step - loss: 1.2270 - accuracy: 0.7551\n",
            "Epoch 152/500\n",
            "2/2 [==============================] - 0s 12ms/step - loss: 1.2120 - accuracy: 0.7551\n",
            "Epoch 153/500\n",
            "2/2 [==============================] - 0s 10ms/step - loss: 1.1960 - accuracy: 0.7551\n",
            "Epoch 154/500\n",
            "2/2 [==============================] - 0s 10ms/step - loss: 1.1814 - accuracy: 0.7551\n",
            "Epoch 155/500\n",
            "2/2 [==============================] - 0s 13ms/step - loss: 1.1661 - accuracy: 0.7551\n",
            "Epoch 156/500\n",
            "2/2 [==============================] - 0s 12ms/step - loss: 1.1515 - accuracy: 0.7551\n",
            "Epoch 157/500\n",
            "2/2 [==============================] - 0s 11ms/step - loss: 1.1372 - accuracy: 0.7959\n",
            "Epoch 158/500\n",
            "2/2 [==============================] - 0s 12ms/step - loss: 1.1217 - accuracy: 0.7959\n",
            "Epoch 159/500\n",
            "2/2 [==============================] - 0s 10ms/step - loss: 1.1075 - accuracy: 0.7959\n",
            "Epoch 160/500\n",
            "2/2 [==============================] - 0s 30ms/step - loss: 1.0934 - accuracy: 0.7959\n",
            "Epoch 161/500\n",
            "2/2 [==============================] - 0s 11ms/step - loss: 1.0797 - accuracy: 0.7959\n",
            "Epoch 162/500\n",
            "2/2 [==============================] - 0s 11ms/step - loss: 1.0650 - accuracy: 0.7959\n",
            "Epoch 163/500\n",
            "2/2 [==============================] - 0s 11ms/step - loss: 1.0510 - accuracy: 0.8163\n",
            "Epoch 164/500\n",
            "2/2 [==============================] - 0s 13ms/step - loss: 1.0362 - accuracy: 0.8163\n",
            "Epoch 165/500\n",
            "2/2 [==============================] - 0s 13ms/step - loss: 1.0240 - accuracy: 0.8367\n",
            "Epoch 166/500\n",
            "2/2 [==============================] - 0s 13ms/step - loss: 1.0094 - accuracy: 0.8367\n",
            "Epoch 167/500\n",
            "2/2 [==============================] - 0s 11ms/step - loss: 0.9960 - accuracy: 0.8367\n",
            "Epoch 168/500\n",
            "2/2 [==============================] - 0s 11ms/step - loss: 0.9839 - accuracy: 0.8367\n",
            "Epoch 169/500\n",
            "2/2 [==============================] - 0s 17ms/step - loss: 0.9712 - accuracy: 0.8367\n",
            "Epoch 170/500\n",
            "2/2 [==============================] - 0s 10ms/step - loss: 0.9577 - accuracy: 0.8571\n",
            "Epoch 171/500\n",
            "2/2 [==============================] - 0s 12ms/step - loss: 0.9459 - accuracy: 0.8571\n",
            "Epoch 172/500\n",
            "2/2 [==============================] - 0s 11ms/step - loss: 0.9329 - accuracy: 0.8571\n",
            "Epoch 173/500\n",
            "2/2 [==============================] - 0s 11ms/step - loss: 0.9206 - accuracy: 0.8571\n",
            "Epoch 174/500\n",
            "2/2 [==============================] - 0s 11ms/step - loss: 0.9092 - accuracy: 0.8571\n",
            "Epoch 175/500\n",
            "2/2 [==============================] - 0s 13ms/step - loss: 0.8974 - accuracy: 0.8571\n",
            "Epoch 176/500\n",
            "2/2 [==============================] - 0s 12ms/step - loss: 0.8859 - accuracy: 0.8571\n",
            "Epoch 177/500\n",
            "2/2 [==============================] - 0s 9ms/step - loss: 0.8750 - accuracy: 0.8571\n",
            "Epoch 178/500\n",
            "2/2 [==============================] - 0s 13ms/step - loss: 0.8639 - accuracy: 0.8776\n",
            "Epoch 179/500\n",
            "2/2 [==============================] - 0s 11ms/step - loss: 0.8524 - accuracy: 0.8776\n",
            "Epoch 180/500\n",
            "2/2 [==============================] - 0s 12ms/step - loss: 0.8422 - accuracy: 0.8571\n",
            "Epoch 181/500\n",
            "2/2 [==============================] - 0s 9ms/step - loss: 0.8319 - accuracy: 0.8776\n",
            "Epoch 182/500\n",
            "2/2 [==============================] - 0s 13ms/step - loss: 0.8209 - accuracy: 0.8980\n",
            "Epoch 183/500\n",
            "2/2 [==============================] - 0s 14ms/step - loss: 0.8104 - accuracy: 0.8980\n",
            "Epoch 184/500\n",
            "2/2 [==============================] - 0s 12ms/step - loss: 0.8007 - accuracy: 0.8776\n",
            "Epoch 185/500\n",
            "2/2 [==============================] - 0s 11ms/step - loss: 0.7902 - accuracy: 0.8980\n",
            "Epoch 186/500\n",
            "2/2 [==============================] - 0s 10ms/step - loss: 0.7802 - accuracy: 0.8980\n",
            "Epoch 187/500\n",
            "2/2 [==============================] - 0s 13ms/step - loss: 0.7710 - accuracy: 0.9184\n",
            "Epoch 188/500\n",
            "2/2 [==============================] - 0s 10ms/step - loss: 0.7619 - accuracy: 0.9184\n",
            "Epoch 189/500\n",
            "2/2 [==============================] - 0s 11ms/step - loss: 0.7528 - accuracy: 0.9184\n",
            "Epoch 190/500\n",
            "2/2 [==============================] - 0s 11ms/step - loss: 0.7437 - accuracy: 0.9184\n",
            "Epoch 191/500\n",
            "2/2 [==============================] - 0s 11ms/step - loss: 0.7347 - accuracy: 0.9184\n",
            "Epoch 192/500\n",
            "2/2 [==============================] - 0s 10ms/step - loss: 0.7261 - accuracy: 0.9184\n",
            "Epoch 193/500\n",
            "2/2 [==============================] - 0s 11ms/step - loss: 0.7173 - accuracy: 0.9592\n",
            "Epoch 194/500\n",
            "2/2 [==============================] - 0s 11ms/step - loss: 0.7092 - accuracy: 0.9592\n",
            "Epoch 195/500\n",
            "2/2 [==============================] - 0s 10ms/step - loss: 0.7002 - accuracy: 0.9592\n",
            "Epoch 196/500\n",
            "2/2 [==============================] - 0s 11ms/step - loss: 0.6924 - accuracy: 0.9388\n",
            "Epoch 197/500\n",
            "2/2 [==============================] - 0s 10ms/step - loss: 0.6850 - accuracy: 0.9388\n",
            "Epoch 198/500\n",
            "2/2 [==============================] - 0s 29ms/step - loss: 0.6767 - accuracy: 0.9592\n",
            "Epoch 199/500\n",
            "2/2 [==============================] - 0s 10ms/step - loss: 0.6688 - accuracy: 0.9592\n",
            "Epoch 200/500\n",
            "2/2 [==============================] - 0s 10ms/step - loss: 0.6612 - accuracy: 0.9592\n",
            "Epoch 201/500\n",
            "2/2 [==============================] - 0s 12ms/step - loss: 0.6532 - accuracy: 0.9592\n",
            "Epoch 202/500\n",
            "2/2 [==============================] - 0s 11ms/step - loss: 0.6460 - accuracy: 0.9592\n",
            "Epoch 203/500\n",
            "2/2 [==============================] - 0s 11ms/step - loss: 0.6385 - accuracy: 0.9592\n",
            "Epoch 204/500\n",
            "2/2 [==============================] - 0s 10ms/step - loss: 0.6320 - accuracy: 0.9592\n",
            "Epoch 205/500\n",
            "2/2 [==============================] - 0s 10ms/step - loss: 0.6246 - accuracy: 0.9592\n",
            "Epoch 206/500\n",
            "2/2 [==============================] - 0s 11ms/step - loss: 0.6177 - accuracy: 0.9592\n",
            "Epoch 207/500\n",
            "2/2 [==============================] - 0s 10ms/step - loss: 0.6110 - accuracy: 0.9592\n",
            "Epoch 208/500\n",
            "2/2 [==============================] - 0s 10ms/step - loss: 0.6039 - accuracy: 0.9592\n",
            "Epoch 209/500\n",
            "2/2 [==============================] - 0s 10ms/step - loss: 0.5974 - accuracy: 0.9592\n",
            "Epoch 210/500\n",
            "2/2 [==============================] - 0s 11ms/step - loss: 0.5903 - accuracy: 0.9592\n",
            "Epoch 211/500\n",
            "2/2 [==============================] - 0s 11ms/step - loss: 0.5839 - accuracy: 0.9592\n",
            "Epoch 212/500\n",
            "2/2 [==============================] - 0s 11ms/step - loss: 0.5777 - accuracy: 0.9796\n",
            "Epoch 213/500\n",
            "2/2 [==============================] - 0s 11ms/step - loss: 0.5713 - accuracy: 0.9796\n",
            "Epoch 214/500\n",
            "2/2 [==============================] - 0s 11ms/step - loss: 0.5655 - accuracy: 0.9796\n",
            "Epoch 215/500\n",
            "2/2 [==============================] - 0s 12ms/step - loss: 0.5592 - accuracy: 0.9796\n",
            "Epoch 216/500\n",
            "2/2 [==============================] - 0s 12ms/step - loss: 0.5531 - accuracy: 0.9796\n",
            "Epoch 217/500\n",
            "2/2 [==============================] - 0s 11ms/step - loss: 0.5468 - accuracy: 0.9796\n",
            "Epoch 218/500\n",
            "2/2 [==============================] - 0s 11ms/step - loss: 0.5408 - accuracy: 0.9796\n",
            "Epoch 219/500\n",
            "2/2 [==============================] - 0s 13ms/step - loss: 0.5347 - accuracy: 0.9796\n",
            "Epoch 220/500\n",
            "2/2 [==============================] - 0s 11ms/step - loss: 0.5292 - accuracy: 0.9796\n",
            "Epoch 221/500\n",
            "2/2 [==============================] - 0s 11ms/step - loss: 0.5234 - accuracy: 0.9796\n",
            "Epoch 222/500\n",
            "2/2 [==============================] - 0s 15ms/step - loss: 0.5178 - accuracy: 0.9796\n",
            "Epoch 223/500\n",
            "2/2 [==============================] - 0s 24ms/step - loss: 0.5123 - accuracy: 0.9796\n",
            "Epoch 224/500\n",
            "2/2 [==============================] - 0s 16ms/step - loss: 0.5069 - accuracy: 0.9796\n",
            "Epoch 225/500\n",
            "2/2 [==============================] - 0s 10ms/step - loss: 0.5015 - accuracy: 0.9796\n",
            "Epoch 226/500\n",
            "2/2 [==============================] - 0s 11ms/step - loss: 0.4967 - accuracy: 0.9796\n",
            "Epoch 227/500\n",
            "2/2 [==============================] - 0s 11ms/step - loss: 0.4917 - accuracy: 0.9796\n",
            "Epoch 228/500\n",
            "2/2 [==============================] - 0s 10ms/step - loss: 0.4859 - accuracy: 0.9796\n",
            "Epoch 229/500\n",
            "2/2 [==============================] - 0s 10ms/step - loss: 0.4814 - accuracy: 0.9796\n",
            "Epoch 230/500\n",
            "2/2 [==============================] - 0s 12ms/step - loss: 0.4758 - accuracy: 0.9796\n",
            "Epoch 231/500\n",
            "2/2 [==============================] - 0s 11ms/step - loss: 0.4708 - accuracy: 0.9796\n",
            "Epoch 232/500\n",
            "2/2 [==============================] - 0s 11ms/step - loss: 0.4658 - accuracy: 0.9796\n",
            "Epoch 233/500\n",
            "2/2 [==============================] - 0s 12ms/step - loss: 0.4612 - accuracy: 0.9796\n",
            "Epoch 234/500\n",
            "2/2 [==============================] - 0s 12ms/step - loss: 0.4561 - accuracy: 0.9796\n",
            "Epoch 235/500\n",
            "2/2 [==============================] - 0s 12ms/step - loss: 0.4517 - accuracy: 0.9796\n",
            "Epoch 236/500\n",
            "2/2 [==============================] - 0s 30ms/step - loss: 0.4470 - accuracy: 0.9796\n",
            "Epoch 237/500\n",
            "2/2 [==============================] - 0s 13ms/step - loss: 0.4424 - accuracy: 0.9796\n",
            "Epoch 238/500\n",
            "2/2 [==============================] - 0s 12ms/step - loss: 0.4376 - accuracy: 0.9796\n",
            "Epoch 239/500\n",
            "2/2 [==============================] - 0s 11ms/step - loss: 0.4331 - accuracy: 0.9796\n",
            "Epoch 240/500\n",
            "2/2 [==============================] - 0s 10ms/step - loss: 0.4285 - accuracy: 0.9796\n",
            "Epoch 241/500\n",
            "2/2 [==============================] - 0s 12ms/step - loss: 0.4246 - accuracy: 0.9796\n",
            "Epoch 242/500\n",
            "2/2 [==============================] - 0s 10ms/step - loss: 0.4198 - accuracy: 0.9796\n",
            "Epoch 243/500\n",
            "2/2 [==============================] - 0s 10ms/step - loss: 0.4156 - accuracy: 0.9796\n",
            "Epoch 244/500\n",
            "2/2 [==============================] - 0s 10ms/step - loss: 0.4115 - accuracy: 0.9796\n",
            "Epoch 245/500\n",
            "2/2 [==============================] - 0s 11ms/step - loss: 0.4071 - accuracy: 0.9796\n",
            "Epoch 246/500\n",
            "2/2 [==============================] - 0s 10ms/step - loss: 0.4029 - accuracy: 0.9796\n",
            "Epoch 247/500\n",
            "2/2 [==============================] - 0s 10ms/step - loss: 0.3986 - accuracy: 0.9796\n",
            "Epoch 248/500\n",
            "2/2 [==============================] - 0s 12ms/step - loss: 0.3948 - accuracy: 0.9796\n",
            "Epoch 249/500\n",
            "2/2 [==============================] - 0s 16ms/step - loss: 0.3905 - accuracy: 0.9796\n",
            "Epoch 250/500\n",
            "2/2 [==============================] - 0s 11ms/step - loss: 0.3869 - accuracy: 0.9796\n",
            "Epoch 251/500\n",
            "2/2 [==============================] - 0s 11ms/step - loss: 0.3827 - accuracy: 0.9796\n",
            "Epoch 252/500\n",
            "2/2 [==============================] - 0s 12ms/step - loss: 0.3792 - accuracy: 0.9796\n",
            "Epoch 253/500\n",
            "2/2 [==============================] - 0s 11ms/step - loss: 0.3753 - accuracy: 0.9796\n",
            "Epoch 254/500\n",
            "2/2 [==============================] - 0s 11ms/step - loss: 0.3718 - accuracy: 0.9796\n",
            "Epoch 255/500\n",
            "2/2 [==============================] - 0s 12ms/step - loss: 0.3682 - accuracy: 0.9796\n",
            "Epoch 256/500\n",
            "2/2 [==============================] - 0s 12ms/step - loss: 0.3643 - accuracy: 0.9796\n",
            "Epoch 257/500\n",
            "2/2 [==============================] - 0s 11ms/step - loss: 0.3610 - accuracy: 0.9796\n",
            "Epoch 258/500\n",
            "2/2 [==============================] - 0s 11ms/step - loss: 0.3573 - accuracy: 0.9796\n",
            "Epoch 259/500\n",
            "2/2 [==============================] - 0s 11ms/step - loss: 0.3545 - accuracy: 0.9796\n",
            "Epoch 260/500\n",
            "2/2 [==============================] - 0s 10ms/step - loss: 0.3505 - accuracy: 0.9796\n",
            "Epoch 261/500\n",
            "2/2 [==============================] - 0s 10ms/step - loss: 0.3470 - accuracy: 0.9796\n",
            "Epoch 262/500\n",
            "2/2 [==============================] - 0s 11ms/step - loss: 0.3437 - accuracy: 0.9796\n",
            "Epoch 263/500\n",
            "2/2 [==============================] - 0s 11ms/step - loss: 0.3405 - accuracy: 0.9796\n",
            "Epoch 264/500\n",
            "2/2 [==============================] - 0s 13ms/step - loss: 0.3370 - accuracy: 0.9796\n",
            "Epoch 265/500\n",
            "2/2 [==============================] - 0s 12ms/step - loss: 0.3339 - accuracy: 0.9796\n",
            "Epoch 266/500\n",
            "2/2 [==============================] - 0s 11ms/step - loss: 0.3308 - accuracy: 0.9796\n",
            "Epoch 267/500\n",
            "2/2 [==============================] - 0s 10ms/step - loss: 0.3277 - accuracy: 0.9796\n",
            "Epoch 268/500\n",
            "2/2 [==============================] - 0s 11ms/step - loss: 0.3247 - accuracy: 0.9796\n",
            "Epoch 269/500\n",
            "2/2 [==============================] - 0s 11ms/step - loss: 0.3215 - accuracy: 0.9796\n",
            "Epoch 270/500\n",
            "2/2 [==============================] - 0s 11ms/step - loss: 0.3187 - accuracy: 0.9796\n",
            "Epoch 271/500\n",
            "2/2 [==============================] - 0s 11ms/step - loss: 0.3157 - accuracy: 0.9796\n",
            "Epoch 272/500\n",
            "2/2 [==============================] - 0s 11ms/step - loss: 0.3127 - accuracy: 0.9796\n",
            "Epoch 273/500\n",
            "2/2 [==============================] - 0s 11ms/step - loss: 0.3098 - accuracy: 0.9796\n",
            "Epoch 274/500\n",
            "2/2 [==============================] - 0s 11ms/step - loss: 0.3068 - accuracy: 0.9796\n",
            "Epoch 275/500\n",
            "2/2 [==============================] - 0s 15ms/step - loss: 0.3042 - accuracy: 0.9796\n",
            "Epoch 276/500\n",
            "2/2 [==============================] - 0s 11ms/step - loss: 0.3014 - accuracy: 0.9796\n",
            "Epoch 277/500\n",
            "2/2 [==============================] - 0s 11ms/step - loss: 0.2986 - accuracy: 0.9796\n",
            "Epoch 278/500\n",
            "2/2 [==============================] - 0s 15ms/step - loss: 0.2958 - accuracy: 0.9796\n",
            "Epoch 279/500\n",
            "2/2 [==============================] - 0s 12ms/step - loss: 0.2930 - accuracy: 0.9796\n",
            "Epoch 280/500\n",
            "2/2 [==============================] - 0s 13ms/step - loss: 0.2904 - accuracy: 0.9796\n",
            "Epoch 281/500\n",
            "2/2 [==============================] - 0s 11ms/step - loss: 0.2881 - accuracy: 0.9796\n",
            "Epoch 282/500\n",
            "2/2 [==============================] - 0s 12ms/step - loss: 0.2853 - accuracy: 0.9796\n",
            "Epoch 283/500\n",
            "2/2 [==============================] - 0s 11ms/step - loss: 0.2828 - accuracy: 0.9796\n",
            "Epoch 284/500\n",
            "2/2 [==============================] - 0s 12ms/step - loss: 0.2800 - accuracy: 0.9796\n",
            "Epoch 285/500\n",
            "2/2 [==============================] - 0s 12ms/step - loss: 0.2775 - accuracy: 0.9796\n",
            "Epoch 286/500\n",
            "2/2 [==============================] - 0s 12ms/step - loss: 0.2750 - accuracy: 0.9796\n",
            "Epoch 287/500\n",
            "2/2 [==============================] - 0s 12ms/step - loss: 0.2724 - accuracy: 0.9796\n",
            "Epoch 288/500\n",
            "2/2 [==============================] - 0s 14ms/step - loss: 0.2700 - accuracy: 0.9796\n",
            "Epoch 289/500\n",
            "2/2 [==============================] - 0s 13ms/step - loss: 0.2675 - accuracy: 0.9796\n",
            "Epoch 290/500\n",
            "2/2 [==============================] - 0s 10ms/step - loss: 0.2655 - accuracy: 0.9796\n",
            "Epoch 291/500\n",
            "2/2 [==============================] - 0s 13ms/step - loss: 0.2628 - accuracy: 0.9796\n",
            "Epoch 292/500\n",
            "2/2 [==============================] - 0s 12ms/step - loss: 0.2606 - accuracy: 0.9796\n",
            "Epoch 293/500\n",
            "2/2 [==============================] - 0s 13ms/step - loss: 0.2581 - accuracy: 0.9796\n",
            "Epoch 294/500\n",
            "2/2 [==============================] - 0s 12ms/step - loss: 0.2559 - accuracy: 0.9796\n",
            "Epoch 295/500\n",
            "2/2 [==============================] - 0s 14ms/step - loss: 0.2539 - accuracy: 0.9796\n",
            "Epoch 296/500\n",
            "2/2 [==============================] - 0s 12ms/step - loss: 0.2514 - accuracy: 0.9796\n",
            "Epoch 297/500\n",
            "2/2 [==============================] - 0s 12ms/step - loss: 0.2492 - accuracy: 0.9796\n",
            "Epoch 298/500\n",
            "2/2 [==============================] - 0s 13ms/step - loss: 0.2471 - accuracy: 0.9796\n",
            "Epoch 299/500\n",
            "2/2 [==============================] - 0s 16ms/step - loss: 0.2449 - accuracy: 0.9796\n",
            "Epoch 300/500\n",
            "2/2 [==============================] - 0s 17ms/step - loss: 0.2429 - accuracy: 0.9796\n",
            "Epoch 301/500\n",
            "2/2 [==============================] - 0s 13ms/step - loss: 0.2411 - accuracy: 0.9796\n",
            "Epoch 302/500\n",
            "2/2 [==============================] - 0s 12ms/step - loss: 0.2387 - accuracy: 0.9796\n",
            "Epoch 303/500\n",
            "2/2 [==============================] - 0s 12ms/step - loss: 0.2366 - accuracy: 0.9796\n",
            "Epoch 304/500\n",
            "2/2 [==============================] - 0s 11ms/step - loss: 0.2347 - accuracy: 1.0000\n",
            "Epoch 305/500\n",
            "2/2 [==============================] - 0s 10ms/step - loss: 0.2326 - accuracy: 1.0000\n",
            "Epoch 306/500\n",
            "2/2 [==============================] - 0s 11ms/step - loss: 0.2307 - accuracy: 1.0000\n",
            "Epoch 307/500\n",
            "2/2 [==============================] - 0s 11ms/step - loss: 0.2286 - accuracy: 1.0000\n",
            "Epoch 308/500\n",
            "2/2 [==============================] - 0s 14ms/step - loss: 0.2267 - accuracy: 1.0000\n",
            "Epoch 309/500\n",
            "2/2 [==============================] - 0s 29ms/step - loss: 0.2248 - accuracy: 1.0000\n",
            "Epoch 310/500\n",
            "2/2 [==============================] - 0s 13ms/step - loss: 0.2229 - accuracy: 1.0000\n",
            "Epoch 311/500\n",
            "2/2 [==============================] - 0s 12ms/step - loss: 0.2210 - accuracy: 1.0000\n",
            "Epoch 312/500\n",
            "2/2 [==============================] - 0s 11ms/step - loss: 0.2192 - accuracy: 1.0000\n",
            "Epoch 313/500\n",
            "2/2 [==============================] - 0s 12ms/step - loss: 0.2174 - accuracy: 1.0000\n",
            "Epoch 314/500\n",
            "2/2 [==============================] - 0s 13ms/step - loss: 0.2157 - accuracy: 1.0000\n",
            "Epoch 315/500\n",
            "2/2 [==============================] - 0s 12ms/step - loss: 0.2139 - accuracy: 1.0000\n",
            "Epoch 316/500\n",
            "2/2 [==============================] - 0s 12ms/step - loss: 0.2122 - accuracy: 1.0000\n",
            "Epoch 317/500\n",
            "2/2 [==============================] - 0s 13ms/step - loss: 0.2107 - accuracy: 1.0000\n",
            "Epoch 318/500\n",
            "2/2 [==============================] - 0s 11ms/step - loss: 0.2088 - accuracy: 1.0000\n",
            "Epoch 319/500\n",
            "2/2 [==============================] - 0s 11ms/step - loss: 0.2071 - accuracy: 1.0000\n",
            "Epoch 320/500\n",
            "2/2 [==============================] - 0s 11ms/step - loss: 0.2055 - accuracy: 1.0000\n",
            "Epoch 321/500\n",
            "2/2 [==============================] - 0s 11ms/step - loss: 0.2038 - accuracy: 1.0000\n",
            "Epoch 322/500\n",
            "2/2 [==============================] - 0s 11ms/step - loss: 0.2022 - accuracy: 1.0000\n",
            "Epoch 323/500\n",
            "2/2 [==============================] - 0s 17ms/step - loss: 0.2006 - accuracy: 1.0000\n",
            "Epoch 324/500\n",
            "2/2 [==============================] - 0s 18ms/step - loss: 0.1990 - accuracy: 1.0000\n",
            "Epoch 325/500\n",
            "2/2 [==============================] - 0s 11ms/step - loss: 0.1976 - accuracy: 1.0000\n",
            "Epoch 326/500\n",
            "2/2 [==============================] - 0s 11ms/step - loss: 0.1959 - accuracy: 1.0000\n",
            "Epoch 327/500\n",
            "2/2 [==============================] - 0s 12ms/step - loss: 0.1944 - accuracy: 1.0000\n",
            "Epoch 328/500\n",
            "2/2 [==============================] - 0s 13ms/step - loss: 0.1930 - accuracy: 1.0000\n",
            "Epoch 329/500\n",
            "2/2 [==============================] - 0s 12ms/step - loss: 0.1914 - accuracy: 1.0000\n",
            "Epoch 330/500\n",
            "2/2 [==============================] - 0s 11ms/step - loss: 0.1898 - accuracy: 1.0000\n",
            "Epoch 331/500\n",
            "2/2 [==============================] - 0s 12ms/step - loss: 0.1884 - accuracy: 1.0000\n",
            "Epoch 332/500\n",
            "2/2 [==============================] - 0s 16ms/step - loss: 0.1870 - accuracy: 1.0000\n",
            "Epoch 333/500\n",
            "2/2 [==============================] - 0s 17ms/step - loss: 0.1855 - accuracy: 1.0000\n",
            "Epoch 334/500\n",
            "2/2 [==============================] - 0s 13ms/step - loss: 0.1842 - accuracy: 1.0000\n",
            "Epoch 335/500\n",
            "2/2 [==============================] - 0s 11ms/step - loss: 0.1827 - accuracy: 1.0000\n",
            "Epoch 336/500\n",
            "2/2 [==============================] - 0s 12ms/step - loss: 0.1813 - accuracy: 1.0000\n",
            "Epoch 337/500\n",
            "2/2 [==============================] - 0s 18ms/step - loss: 0.1799 - accuracy: 1.0000\n",
            "Epoch 338/500\n",
            "2/2 [==============================] - 0s 17ms/step - loss: 0.1785 - accuracy: 1.0000\n",
            "Epoch 339/500\n",
            "2/2 [==============================] - 0s 18ms/step - loss: 0.1771 - accuracy: 1.0000\n",
            "Epoch 340/500\n",
            "2/2 [==============================] - 0s 13ms/step - loss: 0.1758 - accuracy: 1.0000\n",
            "Epoch 341/500\n",
            "2/2 [==============================] - 0s 18ms/step - loss: 0.1745 - accuracy: 1.0000\n",
            "Epoch 342/500\n",
            "2/2 [==============================] - 0s 14ms/step - loss: 0.1732 - accuracy: 1.0000\n",
            "Epoch 343/500\n",
            "2/2 [==============================] - 0s 13ms/step - loss: 0.1718 - accuracy: 1.0000\n",
            "Epoch 344/500\n",
            "2/2 [==============================] - 0s 14ms/step - loss: 0.1707 - accuracy: 1.0000\n",
            "Epoch 345/500\n",
            "2/2 [==============================] - 0s 13ms/step - loss: 0.1693 - accuracy: 1.0000\n",
            "Epoch 346/500\n",
            "2/2 [==============================] - 0s 14ms/step - loss: 0.1681 - accuracy: 1.0000\n",
            "Epoch 347/500\n",
            "2/2 [==============================] - 0s 12ms/step - loss: 0.1668 - accuracy: 1.0000\n",
            "Epoch 348/500\n",
            "2/2 [==============================] - 0s 14ms/step - loss: 0.1656 - accuracy: 1.0000\n",
            "Epoch 349/500\n",
            "2/2 [==============================] - 0s 14ms/step - loss: 0.1644 - accuracy: 1.0000\n",
            "Epoch 350/500\n",
            "2/2 [==============================] - 0s 13ms/step - loss: 0.1632 - accuracy: 1.0000\n",
            "Epoch 351/500\n",
            "2/2 [==============================] - 0s 14ms/step - loss: 0.1621 - accuracy: 1.0000\n",
            "Epoch 352/500\n",
            "2/2 [==============================] - 0s 13ms/step - loss: 0.1609 - accuracy: 1.0000\n",
            "Epoch 353/500\n",
            "2/2 [==============================] - 0s 12ms/step - loss: 0.1598 - accuracy: 1.0000\n",
            "Epoch 354/500\n",
            "2/2 [==============================] - 0s 13ms/step - loss: 0.1587 - accuracy: 1.0000\n",
            "Epoch 355/500\n",
            "2/2 [==============================] - 0s 13ms/step - loss: 0.1576 - accuracy: 1.0000\n",
            "Epoch 356/500\n",
            "2/2 [==============================] - 0s 13ms/step - loss: 0.1566 - accuracy: 1.0000\n",
            "Epoch 357/500\n",
            "2/2 [==============================] - 0s 14ms/step - loss: 0.1554 - accuracy: 1.0000\n",
            "Epoch 358/500\n",
            "2/2 [==============================] - 0s 15ms/step - loss: 0.1544 - accuracy: 1.0000\n",
            "Epoch 359/500\n",
            "2/2 [==============================] - 0s 14ms/step - loss: 0.1534 - accuracy: 1.0000\n",
            "Epoch 360/500\n",
            "2/2 [==============================] - 0s 14ms/step - loss: 0.1524 - accuracy: 1.0000\n",
            "Epoch 361/500\n",
            "2/2 [==============================] - 0s 14ms/step - loss: 0.1513 - accuracy: 1.0000\n",
            "Epoch 362/500\n",
            "2/2 [==============================] - 0s 13ms/step - loss: 0.1503 - accuracy: 1.0000\n",
            "Epoch 363/500\n",
            "2/2 [==============================] - 0s 15ms/step - loss: 0.1492 - accuracy: 1.0000\n",
            "Epoch 364/500\n",
            "2/2 [==============================] - 0s 16ms/step - loss: 0.1483 - accuracy: 1.0000\n",
            "Epoch 365/500\n",
            "2/2 [==============================] - 0s 14ms/step - loss: 0.1472 - accuracy: 1.0000\n",
            "Epoch 366/500\n",
            "2/2 [==============================] - 0s 12ms/step - loss: 0.1463 - accuracy: 1.0000\n",
            "Epoch 367/500\n",
            "2/2 [==============================] - 0s 16ms/step - loss: 0.1453 - accuracy: 1.0000\n",
            "Epoch 368/500\n",
            "2/2 [==============================] - 0s 15ms/step - loss: 0.1443 - accuracy: 1.0000\n",
            "Epoch 369/500\n",
            "2/2 [==============================] - 0s 15ms/step - loss: 0.1435 - accuracy: 1.0000\n",
            "Epoch 370/500\n",
            "2/2 [==============================] - 0s 11ms/step - loss: 0.1425 - accuracy: 1.0000\n",
            "Epoch 371/500\n",
            "2/2 [==============================] - 0s 11ms/step - loss: 0.1416 - accuracy: 1.0000\n",
            "Epoch 372/500\n",
            "2/2 [==============================] - 0s 11ms/step - loss: 0.1406 - accuracy: 1.0000\n",
            "Epoch 373/500\n",
            "2/2 [==============================] - 0s 17ms/step - loss: 0.1396 - accuracy: 1.0000\n",
            "Epoch 374/500\n",
            "2/2 [==============================] - 0s 30ms/step - loss: 0.1387 - accuracy: 1.0000\n",
            "Epoch 375/500\n",
            "2/2 [==============================] - 0s 14ms/step - loss: 0.1378 - accuracy: 1.0000\n",
            "Epoch 376/500\n",
            "2/2 [==============================] - 0s 15ms/step - loss: 0.1370 - accuracy: 1.0000\n",
            "Epoch 377/500\n",
            "2/2 [==============================] - 0s 13ms/step - loss: 0.1361 - accuracy: 1.0000\n",
            "Epoch 378/500\n",
            "2/2 [==============================] - 0s 13ms/step - loss: 0.1353 - accuracy: 1.0000\n",
            "Epoch 379/500\n",
            "2/2 [==============================] - 0s 15ms/step - loss: 0.1344 - accuracy: 1.0000\n",
            "Epoch 380/500\n",
            "2/2 [==============================] - 0s 11ms/step - loss: 0.1334 - accuracy: 1.0000\n",
            "Epoch 381/500\n",
            "2/2 [==============================] - 0s 12ms/step - loss: 0.1326 - accuracy: 1.0000\n",
            "Epoch 382/500\n",
            "2/2 [==============================] - 0s 11ms/step - loss: 0.1318 - accuracy: 1.0000\n",
            "Epoch 383/500\n",
            "2/2 [==============================] - 0s 11ms/step - loss: 0.1310 - accuracy: 1.0000\n",
            "Epoch 384/500\n",
            "2/2 [==============================] - 0s 12ms/step - loss: 0.1301 - accuracy: 1.0000\n",
            "Epoch 385/500\n",
            "2/2 [==============================] - 0s 11ms/step - loss: 0.1293 - accuracy: 1.0000\n",
            "Epoch 386/500\n",
            "2/2 [==============================] - 0s 11ms/step - loss: 0.1285 - accuracy: 1.0000\n",
            "Epoch 387/500\n",
            "2/2 [==============================] - 0s 12ms/step - loss: 0.1277 - accuracy: 1.0000\n",
            "Epoch 388/500\n",
            "2/2 [==============================] - 0s 11ms/step - loss: 0.1269 - accuracy: 1.0000\n",
            "Epoch 389/500\n",
            "2/2 [==============================] - 0s 11ms/step - loss: 0.1261 - accuracy: 1.0000\n",
            "Epoch 390/500\n",
            "2/2 [==============================] - 0s 12ms/step - loss: 0.1254 - accuracy: 1.0000\n",
            "Epoch 391/500\n",
            "2/2 [==============================] - 0s 11ms/step - loss: 0.1246 - accuracy: 1.0000\n",
            "Epoch 392/500\n",
            "2/2 [==============================] - 0s 11ms/step - loss: 0.1237 - accuracy: 1.0000\n",
            "Epoch 393/500\n",
            "2/2 [==============================] - 0s 11ms/step - loss: 0.1230 - accuracy: 1.0000\n",
            "Epoch 394/500\n",
            "2/2 [==============================] - 0s 11ms/step - loss: 0.1222 - accuracy: 1.0000\n",
            "Epoch 395/500\n",
            "2/2 [==============================] - 0s 11ms/step - loss: 0.1215 - accuracy: 1.0000\n",
            "Epoch 396/500\n",
            "2/2 [==============================] - 0s 11ms/step - loss: 0.1208 - accuracy: 1.0000\n",
            "Epoch 397/500\n",
            "2/2 [==============================] - 0s 12ms/step - loss: 0.1200 - accuracy: 1.0000\n",
            "Epoch 398/500\n",
            "2/2 [==============================] - 0s 12ms/step - loss: 0.1193 - accuracy: 1.0000\n",
            "Epoch 399/500\n",
            "2/2 [==============================] - 0s 12ms/step - loss: 0.1186 - accuracy: 1.0000\n",
            "Epoch 400/500\n",
            "2/2 [==============================] - 0s 11ms/step - loss: 0.1180 - accuracy: 1.0000\n",
            "Epoch 401/500\n",
            "2/2 [==============================] - 0s 12ms/step - loss: 0.1173 - accuracy: 1.0000\n",
            "Epoch 402/500\n",
            "2/2 [==============================] - 0s 13ms/step - loss: 0.1167 - accuracy: 1.0000\n",
            "Epoch 403/500\n",
            "2/2 [==============================] - 0s 11ms/step - loss: 0.1159 - accuracy: 1.0000\n",
            "Epoch 404/500\n",
            "2/2 [==============================] - 0s 11ms/step - loss: 0.1152 - accuracy: 1.0000\n",
            "Epoch 405/500\n",
            "2/2 [==============================] - 0s 11ms/step - loss: 0.1146 - accuracy: 1.0000\n",
            "Epoch 406/500\n",
            "2/2 [==============================] - 0s 11ms/step - loss: 0.1139 - accuracy: 1.0000\n",
            "Epoch 407/500\n",
            "2/2 [==============================] - 0s 11ms/step - loss: 0.1132 - accuracy: 1.0000\n",
            "Epoch 408/500\n",
            "2/2 [==============================] - 0s 11ms/step - loss: 0.1126 - accuracy: 1.0000\n",
            "Epoch 409/500\n",
            "2/2 [==============================] - 0s 22ms/step - loss: 0.1119 - accuracy: 1.0000\n",
            "Epoch 410/500\n",
            "2/2 [==============================] - 0s 17ms/step - loss: 0.1112 - accuracy: 1.0000\n",
            "Epoch 411/500\n",
            "2/2 [==============================] - 0s 13ms/step - loss: 0.1106 - accuracy: 1.0000\n",
            "Epoch 412/500\n",
            "2/2 [==============================] - 0s 17ms/step - loss: 0.1099 - accuracy: 1.0000\n",
            "Epoch 413/500\n",
            "2/2 [==============================] - 0s 15ms/step - loss: 0.1093 - accuracy: 1.0000\n",
            "Epoch 414/500\n",
            "2/2 [==============================] - 0s 12ms/step - loss: 0.1086 - accuracy: 1.0000\n",
            "Epoch 415/500\n",
            "2/2 [==============================] - 0s 11ms/step - loss: 0.1081 - accuracy: 1.0000\n",
            "Epoch 416/500\n",
            "2/2 [==============================] - 0s 10ms/step - loss: 0.1075 - accuracy: 1.0000\n",
            "Epoch 417/500\n",
            "2/2 [==============================] - 0s 11ms/step - loss: 0.1068 - accuracy: 1.0000\n",
            "Epoch 418/500\n",
            "2/2 [==============================] - 0s 10ms/step - loss: 0.1062 - accuracy: 1.0000\n",
            "Epoch 419/500\n",
            "2/2 [==============================] - 0s 11ms/step - loss: 0.1056 - accuracy: 1.0000\n",
            "Epoch 420/500\n",
            "2/2 [==============================] - 0s 13ms/step - loss: 0.1050 - accuracy: 1.0000\n",
            "Epoch 421/500\n",
            "2/2 [==============================] - 0s 12ms/step - loss: 0.1044 - accuracy: 1.0000\n",
            "Epoch 422/500\n",
            "2/2 [==============================] - 0s 11ms/step - loss: 0.1038 - accuracy: 1.0000\n",
            "Epoch 423/500\n",
            "2/2 [==============================] - 0s 10ms/step - loss: 0.1033 - accuracy: 1.0000\n",
            "Epoch 424/500\n",
            "2/2 [==============================] - 0s 11ms/step - loss: 0.1027 - accuracy: 1.0000\n",
            "Epoch 425/500\n",
            "2/2 [==============================] - 0s 11ms/step - loss: 0.1021 - accuracy: 1.0000\n",
            "Epoch 426/500\n",
            "2/2 [==============================] - 0s 11ms/step - loss: 0.1015 - accuracy: 1.0000\n",
            "Epoch 427/500\n",
            "2/2 [==============================] - 0s 11ms/step - loss: 0.1010 - accuracy: 1.0000\n",
            "Epoch 428/500\n",
            "2/2 [==============================] - 0s 11ms/step - loss: 0.1004 - accuracy: 1.0000\n",
            "Epoch 429/500\n",
            "2/2 [==============================] - 0s 10ms/step - loss: 0.0999 - accuracy: 1.0000\n",
            "Epoch 430/500\n",
            "2/2 [==============================] - 0s 11ms/step - loss: 0.0993 - accuracy: 1.0000\n",
            "Epoch 431/500\n",
            "2/2 [==============================] - 0s 15ms/step - loss: 0.0987 - accuracy: 1.0000\n",
            "Epoch 432/500\n",
            "2/2 [==============================] - 0s 20ms/step - loss: 0.0982 - accuracy: 1.0000\n",
            "Epoch 433/500\n",
            "2/2 [==============================] - 0s 14ms/step - loss: 0.0977 - accuracy: 1.0000\n",
            "Epoch 434/500\n",
            "2/2 [==============================] - 0s 10ms/step - loss: 0.0972 - accuracy: 1.0000\n",
            "Epoch 435/500\n",
            "2/2 [==============================] - 0s 11ms/step - loss: 0.0967 - accuracy: 1.0000\n",
            "Epoch 436/500\n",
            "2/2 [==============================] - 0s 12ms/step - loss: 0.0962 - accuracy: 1.0000\n",
            "Epoch 437/500\n",
            "2/2 [==============================] - 0s 11ms/step - loss: 0.0957 - accuracy: 1.0000\n",
            "Epoch 438/500\n",
            "2/2 [==============================] - 0s 11ms/step - loss: 0.0952 - accuracy: 1.0000\n",
            "Epoch 439/500\n",
            "2/2 [==============================] - 0s 12ms/step - loss: 0.0947 - accuracy: 1.0000\n",
            "Epoch 440/500\n",
            "2/2 [==============================] - 0s 12ms/step - loss: 0.0942 - accuracy: 1.0000\n",
            "Epoch 441/500\n",
            "2/2 [==============================] - 0s 12ms/step - loss: 0.0937 - accuracy: 1.0000\n",
            "Epoch 442/500\n",
            "2/2 [==============================] - 0s 13ms/step - loss: 0.0932 - accuracy: 1.0000\n",
            "Epoch 443/500\n",
            "2/2 [==============================] - 0s 12ms/step - loss: 0.0927 - accuracy: 1.0000\n",
            "Epoch 444/500\n",
            "2/2 [==============================] - 0s 12ms/step - loss: 0.0923 - accuracy: 1.0000\n",
            "Epoch 445/500\n",
            "2/2 [==============================] - 0s 11ms/step - loss: 0.0918 - accuracy: 1.0000\n",
            "Epoch 446/500\n",
            "2/2 [==============================] - 0s 12ms/step - loss: 0.0913 - accuracy: 1.0000\n",
            "Epoch 447/500\n",
            "2/2 [==============================] - 0s 12ms/step - loss: 0.0908 - accuracy: 1.0000\n",
            "Epoch 448/500\n",
            "2/2 [==============================] - 0s 13ms/step - loss: 0.0903 - accuracy: 1.0000\n",
            "Epoch 449/500\n",
            "2/2 [==============================] - 0s 11ms/step - loss: 0.0899 - accuracy: 1.0000\n",
            "Epoch 450/500\n",
            "2/2 [==============================] - 0s 11ms/step - loss: 0.0895 - accuracy: 1.0000\n",
            "Epoch 451/500\n",
            "2/2 [==============================] - 0s 14ms/step - loss: 0.0890 - accuracy: 1.0000\n",
            "Epoch 452/500\n",
            "2/2 [==============================] - 0s 14ms/step - loss: 0.0886 - accuracy: 1.0000\n",
            "Epoch 453/500\n",
            "2/2 [==============================] - 0s 15ms/step - loss: 0.0881 - accuracy: 1.0000\n",
            "Epoch 454/500\n",
            "2/2 [==============================] - 0s 16ms/step - loss: 0.0877 - accuracy: 1.0000\n",
            "Epoch 455/500\n",
            "2/2 [==============================] - 0s 14ms/step - loss: 0.0872 - accuracy: 1.0000\n",
            "Epoch 456/500\n",
            "2/2 [==============================] - 0s 14ms/step - loss: 0.0868 - accuracy: 1.0000\n",
            "Epoch 457/500\n",
            "2/2 [==============================] - 0s 14ms/step - loss: 0.0863 - accuracy: 1.0000\n",
            "Epoch 458/500\n",
            "2/2 [==============================] - 0s 13ms/step - loss: 0.0859 - accuracy: 1.0000\n",
            "Epoch 459/500\n",
            "2/2 [==============================] - 0s 15ms/step - loss: 0.0855 - accuracy: 1.0000\n",
            "Epoch 460/500\n",
            "2/2 [==============================] - 0s 11ms/step - loss: 0.0850 - accuracy: 1.0000\n",
            "Epoch 461/500\n",
            "2/2 [==============================] - 0s 12ms/step - loss: 0.0846 - accuracy: 1.0000\n",
            "Epoch 462/500\n",
            "2/2 [==============================] - 0s 12ms/step - loss: 0.0842 - accuracy: 1.0000\n",
            "Epoch 463/500\n",
            "2/2 [==============================] - 0s 12ms/step - loss: 0.0838 - accuracy: 1.0000\n",
            "Epoch 464/500\n",
            "2/2 [==============================] - 0s 12ms/step - loss: 0.0834 - accuracy: 1.0000\n",
            "Epoch 465/500\n",
            "2/2 [==============================] - 0s 11ms/step - loss: 0.0830 - accuracy: 1.0000\n",
            "Epoch 466/500\n",
            "2/2 [==============================] - 0s 12ms/step - loss: 0.0826 - accuracy: 1.0000\n",
            "Epoch 467/500\n",
            "2/2 [==============================] - 0s 15ms/step - loss: 0.0821 - accuracy: 1.0000\n",
            "Epoch 468/500\n",
            "2/2 [==============================] - 0s 12ms/step - loss: 0.0817 - accuracy: 1.0000\n",
            "Epoch 469/500\n",
            "2/2 [==============================] - 0s 13ms/step - loss: 0.0813 - accuracy: 1.0000\n",
            "Epoch 470/500\n",
            "2/2 [==============================] - 0s 17ms/step - loss: 0.0809 - accuracy: 1.0000\n",
            "Epoch 471/500\n",
            "2/2 [==============================] - 0s 20ms/step - loss: 0.0805 - accuracy: 1.0000\n",
            "Epoch 472/500\n",
            "2/2 [==============================] - 0s 21ms/step - loss: 0.0801 - accuracy: 1.0000\n",
            "Epoch 473/500\n",
            "2/2 [==============================] - 0s 20ms/step - loss: 0.0798 - accuracy: 1.0000\n",
            "Epoch 474/500\n",
            "2/2 [==============================] - 0s 14ms/step - loss: 0.0794 - accuracy: 1.0000\n",
            "Epoch 475/500\n",
            "2/2 [==============================] - 0s 23ms/step - loss: 0.0790 - accuracy: 1.0000\n",
            "Epoch 476/500\n",
            "2/2 [==============================] - 0s 20ms/step - loss: 0.0786 - accuracy: 1.0000\n",
            "Epoch 477/500\n",
            "2/2 [==============================] - 0s 14ms/step - loss: 0.0782 - accuracy: 1.0000\n",
            "Epoch 478/500\n",
            "2/2 [==============================] - 0s 17ms/step - loss: 0.0778 - accuracy: 1.0000\n",
            "Epoch 479/500\n",
            "2/2 [==============================] - 0s 16ms/step - loss: 0.0775 - accuracy: 1.0000\n",
            "Epoch 480/500\n",
            "2/2 [==============================] - 0s 13ms/step - loss: 0.0771 - accuracy: 1.0000\n",
            "Epoch 481/500\n",
            "2/2 [==============================] - 0s 14ms/step - loss: 0.0767 - accuracy: 1.0000\n",
            "Epoch 482/500\n",
            "2/2 [==============================] - 0s 12ms/step - loss: 0.0764 - accuracy: 1.0000\n",
            "Epoch 483/500\n",
            "2/2 [==============================] - 0s 13ms/step - loss: 0.0760 - accuracy: 1.0000\n",
            "Epoch 484/500\n",
            "2/2 [==============================] - 0s 13ms/step - loss: 0.0757 - accuracy: 1.0000\n",
            "Epoch 485/500\n",
            "2/2 [==============================] - 0s 14ms/step - loss: 0.0754 - accuracy: 1.0000\n",
            "Epoch 486/500\n",
            "2/2 [==============================] - 0s 13ms/step - loss: 0.0750 - accuracy: 1.0000\n",
            "Epoch 487/500\n",
            "2/2 [==============================] - 0s 13ms/step - loss: 0.0746 - accuracy: 1.0000\n",
            "Epoch 488/500\n",
            "2/2 [==============================] - 0s 13ms/step - loss: 0.0743 - accuracy: 1.0000\n",
            "Epoch 489/500\n",
            "2/2 [==============================] - 0s 13ms/step - loss: 0.0739 - accuracy: 1.0000\n",
            "Epoch 490/500\n",
            "2/2 [==============================] - 0s 13ms/step - loss: 0.0736 - accuracy: 1.0000\n",
            "Epoch 491/500\n",
            "2/2 [==============================] - 0s 14ms/step - loss: 0.0732 - accuracy: 1.0000\n",
            "Epoch 492/500\n",
            "2/2 [==============================] - 0s 14ms/step - loss: 0.0729 - accuracy: 1.0000\n",
            "Epoch 493/500\n",
            "2/2 [==============================] - 0s 14ms/step - loss: 0.0726 - accuracy: 1.0000\n",
            "Epoch 494/500\n",
            "2/2 [==============================] - 0s 14ms/step - loss: 0.0722 - accuracy: 1.0000\n",
            "Epoch 495/500\n",
            "2/2 [==============================] - 0s 18ms/step - loss: 0.0719 - accuracy: 1.0000\n",
            "Epoch 496/500\n",
            "2/2 [==============================] - 0s 21ms/step - loss: 0.0716 - accuracy: 1.0000\n",
            "Epoch 497/500\n",
            "2/2 [==============================] - 0s 15ms/step - loss: 0.0712 - accuracy: 1.0000\n",
            "Epoch 498/500\n",
            "2/2 [==============================] - 0s 14ms/step - loss: 0.0709 - accuracy: 1.0000\n",
            "Epoch 499/500\n",
            "2/2 [==============================] - 0s 14ms/step - loss: 0.0706 - accuracy: 1.0000\n",
            "Epoch 500/500\n",
            "2/2 [==============================] - 0s 13ms/step - loss: 0.0703 - accuracy: 1.0000\n"
          ]
        }
      ],
      "source": [
        "history = model.fit(train_X, train_yC, epochs=500, verbose=True)"
      ]
    },
    {
      "cell_type": "code",
      "execution_count": 203,
      "metadata": {
        "id": "_cmd0Y1alM7O"
      },
      "outputs": [],
      "source": [
        "import matplotlib.pyplot as plt\n",
        "plt.style.use('ggplot')"
      ]
    },
    {
      "cell_type": "code",
      "execution_count": 204,
      "metadata": {
        "id": "iwkEAeYXlM7P"
      },
      "outputs": [],
      "source": [
        "def plot_history(history):\n",
        "    train_acc = history.history['accuracy']\n",
        "    train_loss = history.history['loss']\n",
        "\n",
        "    x = range(1, len(train_acc) + 1)\n",
        "\n",
        "    plt.figure(figsize=(12,5))\n",
        "    plt.plot(x, train_acc, 'b', label='Training Accuracy')\n",
        "    plt.plot(x, train_loss, 'r', label='Training Loss')\n",
        "    plt.ylim(0,1.2)\n",
        "    plt.title('Accuracy and Loss')\n",
        "    plt.legend()"
      ]
    },
    {
      "cell_type": "markdown",
      "metadata": {
        "id": "yWmXrszxlM7Q"
      },
      "source": [
        "#### Check the training history"
      ]
    },
    {
      "cell_type": "code",
      "execution_count": 206,
      "metadata": {
        "scrolled": true,
        "colab": {
          "base_uri": "https://localhost:8080/",
          "height": 430
        },
        "id": "tYZ0c0YLlM7Q",
        "outputId": "fcbce2b8-a8e6-4c1b-de95-1bb1385091cd"
      },
      "outputs": [
        {
          "output_type": "display_data",
          "data": {
            "text/plain": [
              "<Figure size 1200x500 with 1 Axes>"
            ],
            "image/png": "[encoded data removed]"
          },
          "metadata": {}
        }
      ],
      "source": [
        "plot_history(history)"
      ]
    },
    {
      "cell_type": "markdown",
      "metadata": {
        "id": "foyNsbP4lM7Q"
      },
      "source": [
        "If we observe that loss over the time went down and accuracy went up with the iterations"
      ]
    },
    {
      "cell_type": "markdown",
      "metadata": {
        "id": "CRyeF8KzlM7R"
      },
      "source": [
        "#### Inference"
      ]
    },
    {
      "cell_type": "code",
      "execution_count": 210,
      "metadata": {
        "id": "qiKrvkemlM7R"
      },
      "outputs": [],
      "source": [
        "def predict_word(text_with_input_words):\n",
        "    seq = np.array(tokenizer.texts_to_sequences([text_with_input_words]))\n",
        "    pred = np.argmax(model.predict(seq), axis=-1)\n",
        "\n",
        "    pred_word = None\n",
        "    for word, index in tokenizer.word_index.items():\n",
        "        if index == pred[0]:\n",
        "            return word\n",
        ""
      ]
    },
    {
      "cell_type": "code",
      "execution_count": 211,
      "metadata": {
        "colab": {
          "base_uri": "https://localhost:8080/",
          "height": 52
        },
        "id": "ycRXoS53lM7S",
        "outputId": "902fda8a-8dcd-45e3-b9aa-57abf1d3d750"
      },
      "outputs": [
        {
          "output_type": "stream",
          "name": "stdout",
          "text": [
            "1/1 [==============================] - 0s 30ms/step\n"
          ]
        },
        {
          "output_type": "execute_result",
          "data": {
            "text/plain": [
              "'organization'"
            ],
            "application/vnd.google.colaboratory.intrinsic+json": {
              "type": "string"
            }
          },
          "metadata": {},
          "execution_count": 211
        }
      ],
      "source": [
        "predict_word(['The', 'Indian', 'Space','Research'])"
      ]
    },
    {
      "cell_type": "code",
      "execution_count": 219,
      "metadata": {
        "colab": {
          "base_uri": "https://localhost:8080/",
          "height": 52
        },
        "id": "QN2GZLKGlM7T",
        "outputId": "c0b5bff2-51d2-41c9-a145-66c7a51ffebc"
      },
      "outputs": [
        {
          "output_type": "stream",
          "name": "stdout",
          "text": [
            "1/1 [==============================] - 0s 21ms/step\n"
          ]
        },
        {
          "output_type": "execute_result",
          "data": {
            "text/plain": [
              "'the'"
            ],
            "application/vnd.google.colaboratory.intrinsic+json": {
              "type": "string"
            }
          },
          "metadata": {},
          "execution_count": 219
        }
      ],
      "source": [
        "\n",
        "predict_word(['first', 'to', 'land', 'at'])"
      ]
    },
    {
      "cell_type": "code",
      "execution_count": 220,
      "metadata": {
        "colab": {
          "base_uri": "https://localhost:8080/",
          "height": 52
        },
        "id": "WCBXG2lSlM7T",
        "outputId": "7dc1848b-cf1c-4797-9a94-70957064f35d"
      },
      "outputs": [
        {
          "output_type": "stream",
          "name": "stdout",
          "text": [
            "1/1 [==============================] - 0s 27ms/step\n"
          ]
        },
        {
          "output_type": "execute_result",
          "data": {
            "text/plain": [
              "'southern'"
            ],
            "application/vnd.google.colaboratory.intrinsic+json": {
              "type": "string"
            }
          },
          "metadata": {},
          "execution_count": 220
        }
      ],
      "source": [
        "predict_word(['to', 'land', 'at', 'the'])"
      ]
    },
    {
      "cell_type": "code",
      "source": [
        "predict_word(['the', 'Soviet', 'Union', 'the'])"
      ],
      "metadata": {
        "colab": {
          "base_uri": "https://localhost:8080/",
          "height": 52
        },
        "id": "anZDZ0AcuG4T",
        "outputId": "02e1cee6-ebed-4dc8-f41c-c64057f37063"
      },
      "execution_count": 221,
      "outputs": [
        {
          "output_type": "stream",
          "name": "stdout",
          "text": [
            "1/1 [==============================] - 0s 26ms/step\n"
          ]
        },
        {
          "output_type": "execute_result",
          "data": {
            "text/plain": [
              "'u'"
            ],
            "application/vnd.google.colaboratory.intrinsic+json": {
              "type": "string"
            }
          },
          "metadata": {},
          "execution_count": 221
        }
      ]
    }
  ],
  "metadata": {
    "kernelspec": {
      "display_name": "Python 3",
      "language": "python",
      "name": "python3"
    },
    "language_info": {
      "codemirror_mode": {
        "name": "ipython",
        "version": 3
      },
      "file_extension": ".py",
      "mimetype": "text/x-python",
      "name": "python",
      "nbconvert_exporter": "python",
      "pygments_lexer": "ipython3",
      "version": "3.7.7"
    },
    "toc": {
      "base_numbering": 1,
      "nav_menu": {},
      "number_sections": false,
      "sideBar": true,
      "skip_h1_title": false,
      "title_cell": "Table of Contents",
      "title_sidebar": "Contents",
      "toc_cell": false,
      "toc_position": {},
      "toc_section_display": true,
      "toc_window_display": false
    },
    "varInspector": {
      "cols": {
        "lenName": 16,
        "lenType": 16,
        "lenVar": 40
      },
      "kernels_config": {
        "python": {
          "delete_cmd_postfix": "",
          "delete_cmd_prefix": "del ",
          "library": "var_list.py",
          "varRefreshCmd": "print(var_dic_list())"
        },
        "r": {
          "delete_cmd_postfix": ") ",
          "delete_cmd_prefix": "rm(",
          "library": "var_list.r",
          "varRefreshCmd": "cat(var_dic_list()) "
        }
      },
      "types_to_exclude": [
        "module",
        "function",
        "builtin_function_or_method",
        "instance",
        "_Feature"
      ],
      "window_display": false
    },
    "colab": {
      "provenance": [],
      "toc_visible": true,
      "include_colab_link": true
    }
  },
  "nbformat": 4,
  "nbformat_minor": 0
}